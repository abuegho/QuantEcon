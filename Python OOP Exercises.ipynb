{
 "cells": [
  {
   "cell_type": "markdown",
   "metadata": {},
   "source": [
    "## <center>Exercises</center>\n",
    "### Exercise 1"
   ]
  },
  {
   "cell_type": "code",
   "execution_count": 1,
   "metadata": {},
   "outputs": [],
   "source": [
    "class ECDF:\n",
    "    \n",
    "    def __init__(self, samples):\n",
    "        samples = self.samplex\n",
    "        \n",
    "    def __call__(self, x):\n",
    "        ctr = 0.0\n",
    "        for sample in self.samples:\n",
    "            if sample <= x:\n",
    "                ctr += 1\n",
    "        return(ctr / len(self.samples))"
   ]
  },
  {
   "cell_type": "markdown",
   "metadata": {},
   "source": [
    "### Exercise 2"
   ]
  },
  {
   "cell_type": "code",
   "execution_count": 2,
   "metadata": {},
   "outputs": [],
   "source": [
    "class Polynomial:\n",
    "    \n",
    "    def __init__(self, coeff):\n",
    "        self.coeff = coeff\n",
    "        \n",
    "    def __call__(self, x):\n",
    "        y = 0\n",
    "        for i in range(len(self.coeff)):\n",
    "            y += self.coeff[i] * x**i\n",
    "        return(y)\n",
    "    \n",
    "    def differentiate(self):\n",
    "        coeff2 = []\n",
    "        for i in range(len(self.coeff)):\n",
    "            coeff2.append(self.coeff[i] * i)\n",
    "        del(coeff2[0])\n",
    "        self.coeff = coeff2\n",
    "        return(coeff2)"
   ]
  }
 ],
 "metadata": {
  "kernelspec": {
   "display_name": "Python 3.7.5 64-bit ('base': conda)",
   "language": "python",
   "name": "python37564bitbaseconda11a8aa98aa4344fba50c35a41d46f325"
  },
  "language_info": {
   "codemirror_mode": {
    "name": "ipython",
    "version": 3
   },
   "file_extension": ".py",
   "mimetype": "text/x-python",
   "name": "python",
   "nbconvert_exporter": "python",
   "pygments_lexer": "ipython3",
   "version": "3.7.5"
  }
 },
 "nbformat": 4,
 "nbformat_minor": 2
}
